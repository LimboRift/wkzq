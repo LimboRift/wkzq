{
 "cells": [
  {
   "cell_type": "markdown",
   "metadata": {},
   "source": [
    "# 初始化"
   ]
  },
  {
   "cell_type": "markdown",
   "metadata": {},
   "source": [
    "# 神经网络"
   ]
  },
  {
   "cell_type": "code",
   "execution_count": 6,
   "metadata": {
    "scrolled": false
   },
   "outputs": [
    {
     "name": "stdout",
     "output_type": "stream",
     "text": [
      "[array([[ 4.20574789, -3.02531408],\n",
      "       [ 4.21188632, -3.02560312],\n",
      "       [-0.4619884 , -0.2875839 ]]), array([[ 2.08188726,  2.11553879,  0.97602543, -2.37630908, -3.20211695],\n",
      "       [-1.9682197 , -0.61626925,  0.24490803,  1.6935684 ,  3.44777254]]), array([[ 0.2151342 , -0.57516527,  0.77260682,  0.24783557,  1.30082872,\n",
      "         1.09495593, -0.00864318, -2.24270776],\n",
      "       [-0.22595177,  0.38212313, -0.3814692 ,  0.54377013,  1.38824827,\n",
      "        -0.90691801, -0.0228184 , -1.92436259],\n",
      "       [ 0.20357069,  0.01019786, -0.65152365,  0.84515167, -0.03562875,\n",
      "         0.18523721,  1.10005398, -0.44977384],\n",
      "       [ 0.06055038,  0.20405806,  0.38527798,  0.37708366, -1.03379065,\n",
      "        -0.53296165, -1.18426442,  2.62883031],\n",
      "       [-0.22789909, -1.1243213 ,  0.11275618, -0.63659425, -2.10940858,\n",
      "         0.69821934, -1.25455291,  4.46875754]]), array([[-0.52862642],\n",
      "       [ 0.13970029],\n",
      "       [-0.6632172 ],\n",
      "       [ 0.26821783],\n",
      "       [ 1.91358946],\n",
      "       [-0.74429903],\n",
      "       [ 0.89961271],\n",
      "       [-5.770235  ]])]\n"
     ]
    },
    {
     "data": {
      "text/plain": [
       "array([[0.02028399],\n",
       "       [0.7996896 ],\n",
       "       [0.79967373],\n",
       "       [0.79983409],\n",
       "       [0.79982347],\n",
       "       [0.80404601],\n",
       "       [0.03540562]])"
      ]
     },
     "execution_count": 6,
     "metadata": {},
     "output_type": "execute_result"
    }
   ],
   "source": [
    "from numpy import exp, array, random, dot\n",
    "#激活函数及坡度\n",
    "def sig(x):\n",
    "    return 1 / (1 + exp(-x))\n",
    "\n",
    "def sig_drv(x):\n",
    "    return x * (1-x)\n",
    "\n",
    "#生成初始神经网络\n",
    "def gen_layer(x,y,nnum):\n",
    "    res = [2 * random.random((len(x[0]), nnum[0])) - 1]\n",
    "    if len(nnum) > 1:\n",
    "        for i in range(1,len(nnum)):\n",
    "            res.append(2 * random.random((nnum[i-1], nnum[i])) - 1)\n",
    "    res.append(2 * random.random((nnum[-1], len(y[0]))) - 1)\n",
    "    return res\n",
    "\n",
    "#输入结果\n",
    "def calc(x, nn):\n",
    "    res = []\n",
    "    for i in range(len(nn)):\n",
    "        if i == 0:\n",
    "            res.append(sig(dot(x, nn[i])))\n",
    "        else:\n",
    "            res.append(sig(dot(res[-1], nn[i])))\n",
    "    return res\n",
    "\n",
    "#纠正\n",
    "def correct(x, y, nnum, time,prt):\n",
    "    layer = gen_layer(x,y,nnum)\n",
    "    for j in range(time):\n",
    "        res = calc(x, layer)\n",
    "        det = []\n",
    "        err = []\n",
    "        adj = []\n",
    "        for i in range(len(layer)-1,-1,-1):\n",
    "            if i == len(layer)-1:\n",
    "                err.append(y - res[-1])\n",
    "                det.append(err[0] * sig_drv(res[-1]))\n",
    "            else:\n",
    "                err.append(det[-1].dot((layer[i+1]).T))\n",
    "                det.append(err[-1] * sig_drv(res[i]))\n",
    "        \n",
    "        det = det[::-1]\n",
    "        for i in range(len(det)):\n",
    "            if i == 0:\n",
    "                adj.append((x.T).dot(det[i]))\n",
    "            else:\n",
    "                adj.append((res[i-1].T).dot(det[i]))        \n",
    "        for i in range(len(layer)):\n",
    "            layer[i] += adj[i]\n",
    "    if prt:\n",
    "        print(layer)\n",
    "    return layer\n",
    "\n",
    "x = array([[0, 0, 1], [0, 1, 1], [1, 0, 1], [0, 1, 0], [1, 0, 0], [1, 1, 1], [0, 0, 0]])\n",
    "y = array([[0, 1, 1, 1, 1, 0, 0]]).T\n",
    "calc(x, correct(x,y,[2,5,8],1000,1))[-1]"
   ]
  }
 ],
 "metadata": {
  "kernelspec": {
   "display_name": "Python 3",
   "language": "python",
   "name": "python3"
  },
  "language_info": {
   "codemirror_mode": {
    "name": "ipython",
    "version": 3
   },
   "file_extension": ".py",
   "mimetype": "text/x-python",
   "name": "python",
   "nbconvert_exporter": "python",
   "pygments_lexer": "ipython3",
   "version": "3.7.4"
  },
  "latex_envs": {
   "LaTeX_envs_menu_present": true,
   "autoclose": false,
   "autocomplete": true,
   "bibliofile": "biblio.bib",
   "cite_by": "apalike",
   "current_citInitial": 1,
   "eqLabelWithNumbers": true,
   "eqNumInitial": 1,
   "hotkeys": {
    "equation": "Ctrl-E",
    "itemize": "Ctrl-I"
   },
   "labels_anchors": false,
   "latex_user_defs": false,
   "report_style_numbering": false,
   "user_envs_cfg": false
  },
  "toc": {
   "base_numbering": 1,
   "nav_menu": {},
   "number_sections": true,
   "sideBar": true,
   "skip_h1_title": false,
   "title_cell": "Table of Contents",
   "title_sidebar": "Contents",
   "toc_cell": false,
   "toc_position": {},
   "toc_section_display": true,
   "toc_window_display": true
  }
 },
 "nbformat": 4,
 "nbformat_minor": 2
}
