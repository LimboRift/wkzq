{
 "cells": [
  {
   "cell_type": "markdown",
   "metadata": {},
   "source": [
    "# 不合并阶段"
   ]
  },
  {
   "cell_type": "code",
   "execution_count": 1,
   "metadata": {},
   "outputs": [],
   "source": [
    "import xlwt\n",
    "import xlrd\n",
    "import os\n",
    "import sys\n",
    "import pandas as pd \n",
    "import numpy as np\n",
    "import warnings\n",
    "warnings.filterwarnings(\"ignore\")\n",
    "import csv\n",
    "from copy import deepcopy\n",
    "#####################################################\n",
    "df = (pd.read_excel('行业普林格.xlsx')).fillna(0)\n",
    "c = list(df)\n",
    "arr = np.array(df)\n",
    "\n",
    "p = [[] for i in range(6)]\n",
    "for j in range(1,7):\n",
    "    for i in range(len(arr)):\n",
    "        p[arr[i][-1]-1].append(arr[i][1:])\n",
    "\n",
    "#行业内各阶段占比转化为百分比\n",
    "def percent(data):\n",
    "    res = deepcopy(data)\n",
    "    for i in range(len(data)):\n",
    "        for j in range(len(data[0])):\n",
    "            res[i][j] = str(round(data[i][j]/sum([a[j] for a in data])*100)) + '%'\n",
    "    return res\n",
    "\n",
    "#生成ind阶段内个行业内各阶段的数量\n",
    "def gen(data, ind):\n",
    "    res = [[0 for i in range(10)] for j in range(6)]\n",
    "    \n",
    "    for i in range(len(data)):\n",
    "        for j in range(len(data[0])-1):\n",
    "            if data[i][j] > 0:\n",
    "                res[int(data[i][j])-1][j] += 1\n",
    "    return percent(res)\n",
    "\n",
    "stage = ['阶段1','阶段2','阶段3','阶段4','阶段5','阶段6']\n",
    "\n",
    "with pd.ExcelWriter('try.xlsx') as writer:\n",
    "    for i in range(6):\n",
    "        name = st[i]\n",
    "        dff = pd.DataFrame(gen(p[i],i))          #是否生成百分比，1为是\n",
    "        dff.columns = c[1:-1]\n",
    "        dff.index = stage\n",
    "        dff.to_excel(writer, sheet_name =  '普林格阶段'+str(i+1))\n",
    "\n",
    "writer.save()\n",
    "writer.close()"
   ]
  },
  {
   "cell_type": "markdown",
   "metadata": {},
   "source": [
    "# 合并阶段"
   ]
  }
 ],
 "metadata": {
  "kernelspec": {
   "display_name": "Python 3",
   "language": "python",
   "name": "python3"
  },
  "language_info": {
   "codemirror_mode": {
    "name": "ipython",
    "version": 3
   },
   "file_extension": ".py",
   "mimetype": "text/x-python",
   "name": "python",
   "nbconvert_exporter": "python",
   "pygments_lexer": "ipython3",
   "version": "3.7.4"
  },
  "latex_envs": {
   "LaTeX_envs_menu_present": true,
   "autoclose": false,
   "autocomplete": true,
   "bibliofile": "biblio.bib",
   "cite_by": "apalike",
   "current_citInitial": 1,
   "eqLabelWithNumbers": true,
   "eqNumInitial": 1,
   "hotkeys": {
    "equation": "Ctrl-E",
    "itemize": "Ctrl-I"
   },
   "labels_anchors": false,
   "latex_user_defs": false,
   "report_style_numbering": false,
   "user_envs_cfg": false
  },
  "toc": {
   "base_numbering": 1,
   "nav_menu": {},
   "number_sections": true,
   "sideBar": true,
   "skip_h1_title": false,
   "title_cell": "Table of Contents",
   "title_sidebar": "Contents",
   "toc_cell": false,
   "toc_position": {},
   "toc_section_display": true,
   "toc_window_display": false
  }
 },
 "nbformat": 4,
 "nbformat_minor": 2
}
